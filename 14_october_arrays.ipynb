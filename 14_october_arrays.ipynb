{
 "cells": [
  {
   "cell_type": "code",
   "execution_count": 7,
   "id": "a9517779",
   "metadata": {},
   "outputs": [
    {
     "name": "stdout",
     "output_type": "stream",
     "text": [
      "True\n"
     ]
    }
   ],
   "source": [
    "## 1. Given an array, check if it contains any duplicates or not. \n",
    "def find_duplicate(nums):\n",
    "    hashtag = set()\n",
    "    for num in nums:\n",
    "        if num in hashtag:\n",
    "            return True\n",
    "        hashtag.add(num)\n",
    "    return False\n",
    "\n",
    "arr = [1, 2, 4, 2, 5, 9] \n",
    "print(find_duplicate(arr))\n",
    "    \n",
    "    "
   ]
  },
  {
   "cell_type": "code",
   "execution_count": 19,
   "id": "a4e07c33",
   "metadata": {},
   "outputs": [
    {
     "name": "stdout",
     "output_type": "stream",
     "text": [
      "[5, 6, 7, 1, 2, 3, 4]\n"
     ]
    }
   ],
   "source": [
    "##2. Given an array and an integer k, rotate the array to the right by k steps\n",
    "\n",
    "def rotation_arry(nums,k):\n",
    "    if not nums:\n",
    "        return nums\n",
    "    k %= len(nums)\n",
    "    nums[:] = nums[-k:] + nums[:-k]\n",
    "    \n",
    "arr = [1, 2, 3, 4, 5, 6, 7] \n",
    "k = 3 \n",
    "\n",
    "rotation_arry(arr,k)\n",
    "print(arr)"
   ]
  },
  {
   "cell_type": "code",
   "execution_count": 27,
   "id": "b175c4c0",
   "metadata": {},
   "outputs": [
    {
     "data": {
      "text/plain": [
       "[12, 9, 7, 5, 4, 2]"
      ]
     },
     "execution_count": 27,
     "metadata": {},
     "output_type": "execute_result"
    }
   ],
   "source": [
    "##Reverse the given array in-place, means without using any extra data structure.\n",
    "arr = [2, 4, 5, 7, 9, 12]\n",
    "arr[::-1]"
   ]
  },
  {
   "cell_type": "code",
   "execution_count": 37,
   "id": "c3f0f6b5",
   "metadata": {},
   "outputs": [
    {
     "data": {
      "text/plain": [
       "20"
      ]
     },
     "execution_count": 37,
     "metadata": {},
     "output_type": "execute_result"
    }
   ],
   "source": [
    "## 4. Given an array of integers, find the maximum element in an array\n",
    "arr = [10, 5, 20, 8, 15]\n",
    "max(arr)"
   ]
  },
  {
   "cell_type": "code",
   "execution_count": 48,
   "id": "4d989b0b",
   "metadata": {},
   "outputs": [
    {
     "name": "stdout",
     "output_type": "stream",
     "text": [
      "[1, 2, 3, 4, 5]\n"
     ]
    }
   ],
   "source": [
    "##5. Given a sorted array, remove the duplicate element without using any extra data structure. \n",
    "def remove_dupilcates(arr):\n",
    "    if not arr:\n",
    "        return arr\n",
    "    arr.sort()\n",
    "    \n",
    "    j = 0\n",
    "    \n",
    "    for i in range(1,len(arr)):\n",
    "        if arr[i] != arr[j]:\n",
    "            j += 1\n",
    "            arr[j] = arr[i]\n",
    "    return arr[:j + 1]\n",
    "    \n",
    "arr = [1, 1, 2, 3, 2, 3, 3, 4, 4, 4, 5, 5] \n",
    "result = remove_dupilcates(arr)\n",
    "print(result)"
   ]
  }
 ],
 "metadata": {
  "kernelspec": {
   "display_name": "Python 3 (ipykernel)",
   "language": "python",
   "name": "python3"
  },
  "language_info": {
   "codemirror_mode": {
    "name": "ipython",
    "version": 3
   },
   "file_extension": ".py",
   "mimetype": "text/x-python",
   "name": "python",
   "nbconvert_exporter": "python",
   "pygments_lexer": "ipython3",
   "version": "3.11.5"
  }
 },
 "nbformat": 4,
 "nbformat_minor": 5
}
